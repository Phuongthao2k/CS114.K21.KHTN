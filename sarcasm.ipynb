{
  "nbformat": 4,
  "nbformat_minor": 0,
  "metadata": {
    "colab": {
      "name": "Sarcasm.ipynb",
      "provenance": [],
      "include_colab_link": true
    },
    "kernelspec": {
      "name": "python3",
      "display_name": "Python 3"
    }
  },
  "cells": [
    {
      "cell_type": "markdown",
      "metadata": {
        "id": "view-in-github",
        "colab_type": "text"
      },
      "source": [
        "<a href=\"https://colab.research.google.com/github/Phuongthao2k/CS114.K21.KHTN/blob/master/sarcasm.ipynb\" target=\"_parent\"><img src=\"https://colab.research.google.com/assets/colab-badge.svg\" alt=\"Open In Colab\"/></a>"
      ]
    },
    {
      "cell_type": "markdown",
      "metadata": {
        "id": "kntwNxA479M8",
        "colab_type": "text"
      },
      "source": [
        " 18521422 - Trần Thị Phương Thảo\n",
        " 18521348 - Lưu Hoàng Sơn"
      ]
    },
    {
      "cell_type": "markdown",
      "metadata": {
        "id": "4H8WOGa8G-8D",
        "colab_type": "text"
      },
      "source": [
        "## Sarcasm Indetifier\n",
        "https://www.kaggle.com/rmisra/news-headlines-dataset-for-sarcasm-detection  \n",
        "- Input: 1 headline\n",
        "- Ouput: input headline is Sarcastic or not\n",
        "\n",
        "### Data collection\n",
        "Train Data: From Kaggle  \n",
        "Test Data: From huffpost & the onion\n"
      ]
    },
    {
      "cell_type": "code",
      "metadata": {
        "id": "_HO9dxirI9KU",
        "colab_type": "code",
        "colab": {
          "base_uri": "https://localhost:8080/",
          "height": 231
        },
        "outputId": "de002734-6654-4c70-98d6-2aeb07f68330"
      },
      "source": [
        "!wget https://raw.githubusercontent.com/sonlhcsuit/CS114.K21.KHTN/master/Sarcasm_Headlines_Dataset.json"
      ],
      "execution_count": null,
      "outputs": [
        {
          "output_type": "stream",
          "text": [
            "--2020-06-25 15:41:53--  https://raw.githubusercontent.com/sonlhcsuit/CS114.K21.KHTN/master/Sarcasm_Headlines_Dataset.json\n",
            "Resolving raw.githubusercontent.com (raw.githubusercontent.com)... 151.101.0.133, 151.101.64.133, 151.101.128.133, ...\n",
            "Connecting to raw.githubusercontent.com (raw.githubusercontent.com)|151.101.0.133|:443... connected.\n",
            "HTTP request sent, awaiting response... 200 OK\n",
            "Length: 5616830 (5.4M) [text/plain]\n",
            "Saving to: ‘Sarcasm_Headlines_Dataset.json’\n",
            "\n",
            "\r          Sarcasm_H   0%[                    ]       0  --.-KB/s               \r         Sarcasm_He  48%[========>           ]   2.58M  12.9MB/s               \r        Sarcasm_Hea  97%[==================> ]   5.24M  13.1MB/s               \rSarcasm_Headlines_D 100%[===================>]   5.36M  13.2MB/s    in 0.4s    \n",
            "\n",
            "2020-06-25 15:41:54 (13.2 MB/s) - ‘Sarcasm_Headlines_Dataset.json’ saved [5616830/5616830]\n",
            "\n"
          ],
          "name": "stdout"
        }
      ]
    },
    {
      "cell_type": "code",
      "metadata": {
        "id": "vkVIbvmgJVq_",
        "colab_type": "code",
        "colab": {
          "base_uri": "https://localhost:8080/",
          "height": 360
        },
        "outputId": "70830c2d-45e2-453e-bab6-1582585c72ba"
      },
      "source": [
        "import pandas as pd\n",
        "kaggleData = pd.read_json('/content/Sarcasm_Headlines_Dataset.json',lines=True)\n",
        "kaggleData.sample(10)"
      ],
      "execution_count": null,
      "outputs": [
        {
          "output_type": "execute_result",
          "data": {
            "text/html": [
              "<div>\n",
              "<style scoped>\n",
              "    .dataframe tbody tr th:only-of-type {\n",
              "        vertical-align: middle;\n",
              "    }\n",
              "\n",
              "    .dataframe tbody tr th {\n",
              "        vertical-align: top;\n",
              "    }\n",
              "\n",
              "    .dataframe thead th {\n",
              "        text-align: right;\n",
              "    }\n",
              "</style>\n",
              "<table border=\"1\" class=\"dataframe\">\n",
              "  <thead>\n",
              "    <tr style=\"text-align: right;\">\n",
              "      <th></th>\n",
              "      <th>article_link</th>\n",
              "      <th>headline</th>\n",
              "      <th>is_sarcastic</th>\n",
              "    </tr>\n",
              "  </thead>\n",
              "  <tbody>\n",
              "    <tr>\n",
              "      <th>12957</th>\n",
              "      <td>https://local.theonion.com/chipotle-mayo-doing...</td>\n",
              "      <td>chipotle mayo doing all the heavy lifting in s...</td>\n",
              "      <td>1</td>\n",
              "    </tr>\n",
              "    <tr>\n",
              "      <th>21951</th>\n",
              "      <td>https://www.theonion.com/ponds-institute-tops-...</td>\n",
              "      <td>ponds institute tops 1997 cosmopolitan college...</td>\n",
              "      <td>1</td>\n",
              "    </tr>\n",
              "    <tr>\n",
              "      <th>17527</th>\n",
              "      <td>https://www.huffingtonpost.com/entry/joey-ches...</td>\n",
              "      <td>watch: what it feels like after you wolf down ...</td>\n",
              "      <td>0</td>\n",
              "    </tr>\n",
              "    <tr>\n",
              "      <th>15640</th>\n",
              "      <td>https://www.theonion.com/report-96-of-nations-...</td>\n",
              "      <td>report: 96% of nation's smut consumed by filth...</td>\n",
              "      <td>1</td>\n",
              "    </tr>\n",
              "    <tr>\n",
              "      <th>9331</th>\n",
              "      <td>https://www.huffingtonpost.com/entry/cash-back...</td>\n",
              "      <td>cash back incentives:  a winning strategy for ...</td>\n",
              "      <td>0</td>\n",
              "    </tr>\n",
              "    <tr>\n",
              "      <th>982</th>\n",
              "      <td>https://www.theonion.com/newborn-prince-of-cam...</td>\n",
              "      <td>newborn prince of cambridge begins consolidati...</td>\n",
              "      <td>1</td>\n",
              "    </tr>\n",
              "    <tr>\n",
              "      <th>12256</th>\n",
              "      <td>https://entertainment.theonion.com/mpaa-unveil...</td>\n",
              "      <td>mpaa unveils rating system based on old testament</td>\n",
              "      <td>1</td>\n",
              "    </tr>\n",
              "    <tr>\n",
              "      <th>23831</th>\n",
              "      <td>https://www.huffingtonpost.com/entry/trainspot...</td>\n",
              "      <td>revisit your favorite junkie pals in the 'trai...</td>\n",
              "      <td>0</td>\n",
              "    </tr>\n",
              "    <tr>\n",
              "      <th>26395</th>\n",
              "      <td>https://www.huffingtonpost.com/entry/margaret-...</td>\n",
              "      <td>margaret atwood's advice for young feminists: ...</td>\n",
              "      <td>0</td>\n",
              "    </tr>\n",
              "    <tr>\n",
              "      <th>18810</th>\n",
              "      <td>https://www.huffingtonpost.com/entry/five-minu...</td>\n",
              "      <td>5-minute hairstyles -- for real!</td>\n",
              "      <td>0</td>\n",
              "    </tr>\n",
              "  </tbody>\n",
              "</table>\n",
              "</div>"
            ],
            "text/plain": [
              "                                            article_link  ... is_sarcastic\n",
              "12957  https://local.theonion.com/chipotle-mayo-doing...  ...            1\n",
              "21951  https://www.theonion.com/ponds-institute-tops-...  ...            1\n",
              "17527  https://www.huffingtonpost.com/entry/joey-ches...  ...            0\n",
              "15640  https://www.theonion.com/report-96-of-nations-...  ...            1\n",
              "9331   https://www.huffingtonpost.com/entry/cash-back...  ...            0\n",
              "982    https://www.theonion.com/newborn-prince-of-cam...  ...            1\n",
              "12256  https://entertainment.theonion.com/mpaa-unveil...  ...            1\n",
              "23831  https://www.huffingtonpost.com/entry/trainspot...  ...            0\n",
              "26395  https://www.huffingtonpost.com/entry/margaret-...  ...            0\n",
              "18810  https://www.huffingtonpost.com/entry/five-minu...  ...            0\n",
              "\n",
              "[10 rows x 3 columns]"
            ]
          },
          "metadata": {
            "tags": []
          },
          "execution_count": 6
        }
      ]
    },
    {
      "cell_type": "code",
      "metadata": {
        "id": "o20Pa8BgUtGk",
        "colab_type": "code",
        "colab": {
          "base_uri": "https://localhost:8080/",
          "height": 34
        },
        "outputId": "3023f44e-27b0-473c-b2d6-9f90c4573eb6"
      },
      "source": [
        "kaggleData.headline[3537]"
      ],
      "execution_count": null,
      "outputs": [
        {
          "output_type": "execute_result",
          "data": {
            "text/plain": [
              "\"fans erupt over fate of elias koteas' olinsky on 'chicago p.d.'\""
            ]
          },
          "metadata": {
            "tags": []
          },
          "execution_count": 59
        }
      ]
    },
    {
      "cell_type": "code",
      "metadata": {
        "id": "ufm27rzOKrg4",
        "colab_type": "code",
        "colab": {
          "base_uri": "https://localhost:8080/",
          "height": 360
        },
        "outputId": "2d840eb3-5765-4948-87b5-6a9a8efcb479"
      },
      "source": [
        "data = kaggleData.drop(columns='article_link')\n",
        "data.head(10)"
      ],
      "execution_count": null,
      "outputs": [
        {
          "output_type": "execute_result",
          "data": {
            "text/html": [
              "<div>\n",
              "<style scoped>\n",
              "    .dataframe tbody tr th:only-of-type {\n",
              "        vertical-align: middle;\n",
              "    }\n",
              "\n",
              "    .dataframe tbody tr th {\n",
              "        vertical-align: top;\n",
              "    }\n",
              "\n",
              "    .dataframe thead th {\n",
              "        text-align: right;\n",
              "    }\n",
              "</style>\n",
              "<table border=\"1\" class=\"dataframe\">\n",
              "  <thead>\n",
              "    <tr style=\"text-align: right;\">\n",
              "      <th></th>\n",
              "      <th>headline</th>\n",
              "      <th>is_sarcastic</th>\n",
              "    </tr>\n",
              "  </thead>\n",
              "  <tbody>\n",
              "    <tr>\n",
              "      <th>0</th>\n",
              "      <td>former versace store clerk sues over secret 'b...</td>\n",
              "      <td>0</td>\n",
              "    </tr>\n",
              "    <tr>\n",
              "      <th>1</th>\n",
              "      <td>the 'roseanne' revival catches up to our thorn...</td>\n",
              "      <td>0</td>\n",
              "    </tr>\n",
              "    <tr>\n",
              "      <th>2</th>\n",
              "      <td>mom starting to fear son's web series closest ...</td>\n",
              "      <td>1</td>\n",
              "    </tr>\n",
              "    <tr>\n",
              "      <th>3</th>\n",
              "      <td>boehner just wants wife to listen, not come up...</td>\n",
              "      <td>1</td>\n",
              "    </tr>\n",
              "    <tr>\n",
              "      <th>4</th>\n",
              "      <td>j.k. rowling wishes snape happy birthday in th...</td>\n",
              "      <td>0</td>\n",
              "    </tr>\n",
              "    <tr>\n",
              "      <th>5</th>\n",
              "      <td>advancing the world's women</td>\n",
              "      <td>0</td>\n",
              "    </tr>\n",
              "    <tr>\n",
              "      <th>6</th>\n",
              "      <td>the fascinating case for eating lab-grown meat</td>\n",
              "      <td>0</td>\n",
              "    </tr>\n",
              "    <tr>\n",
              "      <th>7</th>\n",
              "      <td>this ceo will send your kids to school, if you...</td>\n",
              "      <td>0</td>\n",
              "    </tr>\n",
              "    <tr>\n",
              "      <th>8</th>\n",
              "      <td>top snake handler leaves sinking huckabee camp...</td>\n",
              "      <td>1</td>\n",
              "    </tr>\n",
              "    <tr>\n",
              "      <th>9</th>\n",
              "      <td>friday's morning email: inside trump's presser...</td>\n",
              "      <td>0</td>\n",
              "    </tr>\n",
              "  </tbody>\n",
              "</table>\n",
              "</div>"
            ],
            "text/plain": [
              "                                            headline  is_sarcastic\n",
              "0  former versace store clerk sues over secret 'b...             0\n",
              "1  the 'roseanne' revival catches up to our thorn...             0\n",
              "2  mom starting to fear son's web series closest ...             1\n",
              "3  boehner just wants wife to listen, not come up...             1\n",
              "4  j.k. rowling wishes snape happy birthday in th...             0\n",
              "5                        advancing the world's women             0\n",
              "6     the fascinating case for eating lab-grown meat             0\n",
              "7  this ceo will send your kids to school, if you...             0\n",
              "8  top snake handler leaves sinking huckabee camp...             1\n",
              "9  friday's morning email: inside trump's presser...             0"
            ]
          },
          "metadata": {
            "tags": []
          },
          "execution_count": 12
        }
      ]
    },
    {
      "cell_type": "markdown",
      "metadata": {
        "id": "n4NUIehVLPPQ",
        "colab_type": "text"
      },
      "source": [
        "#PreProcessData"
      ]
    },
    {
      "cell_type": "code",
      "metadata": {
        "id": "lFibdCClJ5Oj",
        "colab_type": "code",
        "colab": {
          "base_uri": "https://localhost:8080/",
          "height": 34
        },
        "outputId": "49d01a51-0781-4891-96ea-c4c4ba35c5cf"
      },
      "source": [
        "import re \n",
        "def pre_process_data(headline):\n",
        "  test = headline.lower()\n",
        "  spaceRemove = re.compile(\"[\\s]\")\n",
        "  BoDauCau = re.compile('[\\.\\!\\,\\:\\'\\\"\\(\\)\\@\\#\\$\\^\\&\\*\\’\\‘]')\n",
        "  abc = re.sub(BoDauCau,'',test)\n",
        "  abc = re.sub(spaceRemove,\"|\",abc)\n",
        "  abc = re.sub('((\\|[a-z]\\|)|(\\|an\\|)|(\\|the\\|)|(\\|this\\|)|(\\|that\\|)|(\\|these\\|)|(\\|those\\|))','|',abc)\n",
        "  abc = re.sub('\\|+',' ',abc)\n",
        "  return abc.strip()\n",
        "test = \"fans erupt over fate of elias koteas' olinsky on 'chicago p.d.'\"\n",
        "pre_process_data(test)"
      ],
      "execution_count": null,
      "outputs": [
        {
          "output_type": "execute_result",
          "data": {
            "text/plain": [
              "'fans erupt over fate of elias koteas olinsky on chicago pd'"
            ]
          },
          "metadata": {
            "tags": []
          },
          "execution_count": 90
        }
      ]
    },
    {
      "cell_type": "code",
      "metadata": {
        "id": "5VjSUn8DM9fw",
        "colab_type": "code",
        "colab": {
          "base_uri": "https://localhost:8080/",
          "height": 360
        },
        "outputId": "09eb1bec-d0d3-4f95-9745-2367c2bfd065"
      },
      "source": [
        "data.headline = data.headline.apply(pre_process_data)\n",
        "data.sample(10)"
      ],
      "execution_count": null,
      "outputs": [
        {
          "output_type": "execute_result",
          "data": {
            "text/html": [
              "<div>\n",
              "<style scoped>\n",
              "    .dataframe tbody tr th:only-of-type {\n",
              "        vertical-align: middle;\n",
              "    }\n",
              "\n",
              "    .dataframe tbody tr th {\n",
              "        vertical-align: top;\n",
              "    }\n",
              "\n",
              "    .dataframe thead th {\n",
              "        text-align: right;\n",
              "    }\n",
              "</style>\n",
              "<table border=\"1\" class=\"dataframe\">\n",
              "  <thead>\n",
              "    <tr style=\"text-align: right;\">\n",
              "      <th></th>\n",
              "      <th>headline</th>\n",
              "      <th>is_sarcastic</th>\n",
              "    </tr>\n",
              "  </thead>\n",
              "  <tbody>\n",
              "    <tr>\n",
              "      <th>14494</th>\n",
              "      <td>is what it was like to go to airport before 9/11</td>\n",
              "      <td>0</td>\n",
              "    </tr>\n",
              "    <tr>\n",
              "      <th>4080</th>\n",
              "      <td>what should we believe marco rubio or math?</td>\n",
              "      <td>0</td>\n",
              "    </tr>\n",
              "    <tr>\n",
              "      <th>22661</th>\n",
              "      <td>impressive new hire figures out bare minimum o...</td>\n",
              "      <td>1</td>\n",
              "    </tr>\n",
              "    <tr>\n",
              "      <th>14268</th>\n",
              "      <td>las vegas reviewjournal staff balks at limits ...</td>\n",
              "      <td>0</td>\n",
              "    </tr>\n",
              "    <tr>\n",
              "      <th>3833</th>\n",
              "      <td>bold intern giving parents tour of office</td>\n",
              "      <td>1</td>\n",
              "    </tr>\n",
              "    <tr>\n",
              "      <th>10350</th>\n",
              "      <td>concert spent const tly verifying presence of ...</td>\n",
              "      <td>1</td>\n",
              "    </tr>\n",
              "    <tr>\n",
              "      <th>10740</th>\n",
              "      <td>medicaid exp sion tied to employment among peo...</td>\n",
              "      <td>0</td>\n",
              "    </tr>\n",
              "    <tr>\n",
              "      <th>24689</th>\n",
              "      <td>psychic fall cometh</td>\n",
              "      <td>0</td>\n",
              "    </tr>\n",
              "    <tr>\n",
              "      <th>6513</th>\n",
              "      <td>sh non tweed named head of us task force on nu...</td>\n",
              "      <td>1</td>\n",
              "    </tr>\n",
              "    <tr>\n",
              "      <th>21308</th>\n",
              "      <td>streetsmart teen dies in library</td>\n",
              "      <td>1</td>\n",
              "    </tr>\n",
              "  </tbody>\n",
              "</table>\n",
              "</div>"
            ],
            "text/plain": [
              "                                                headline  is_sarcastic\n",
              "14494   is what it was like to go to airport before 9/11             0\n",
              "4080         what should we believe marco rubio or math?             0\n",
              "22661  impressive new hire figures out bare minimum o...             1\n",
              "14268  las vegas reviewjournal staff balks at limits ...             0\n",
              "3833           bold intern giving parents tour of office             1\n",
              "10350  concert spent const tly verifying presence of ...             1\n",
              "10740  medicaid exp sion tied to employment among peo...             0\n",
              "24689                                psychic fall cometh             0\n",
              "6513   sh non tweed named head of us task force on nu...             1\n",
              "21308                   streetsmart teen dies in library             1"
            ]
          },
          "metadata": {
            "tags": []
          },
          "execution_count": 71
        }
      ]
    },
    {
      "cell_type": "markdown",
      "metadata": {
        "id": "6tYBw0ztVz91",
        "colab_type": "text"
      },
      "source": [
        "#Train "
      ]
    },
    {
      "cell_type": "code",
      "metadata": {
        "id": "-11F7Cm-VzmZ",
        "colab_type": "code",
        "colab": {}
      },
      "source": [
        "from sklearn.model_selection import train_test_split\n",
        "X = data.headline\n",
        "Y = data.is_sarcastic\n",
        "X_train, X_test, Y_train, Y_test = train_test_split(X, Y, test_size = 0.3)"
      ],
      "execution_count": null,
      "outputs": []
    },
    {
      "cell_type": "code",
      "metadata": {
        "id": "RnB8nwfpWD-9",
        "colab_type": "code",
        "colab": {}
      },
      "source": [
        "from sklearn.feature_extraction.text import CountVectorizer, TfidfVectorizer\n",
        "\n",
        "trainVector = CountVectorizer(analyzer='word',ngram_range=(1,1), max_features=10000) #make a vectorizer for train dataset\n",
        "X_train = trainVector.fit_transform(X_train) #vectorize train set to get features \n",
        "\n",
        "testVector = CountVectorizer(vocabulary=trainVector.vocabulary_,ngram_range=(1,1)) #make a vectorize for test set, using train set vocabulary_\n",
        "X_test = testVector.fit_transform(X_test) #vectorize test set to get features"
      ],
      "execution_count": null,
      "outputs": []
    },
    {
      "cell_type": "markdown",
      "metadata": {
        "id": "AtohV8iyWYRc",
        "colab_type": "text"
      },
      "source": [
        "## Select Model"
      ]
    },
    {
      "cell_type": "markdown",
      "metadata": {
        "id": "z-Qg_hdaXqjW",
        "colab_type": "text"
      },
      "source": [
        "##SVC "
      ]
    },
    {
      "cell_type": "code",
      "metadata": {
        "id": "bv7wFmCkWXbv",
        "colab_type": "code",
        "colab": {
          "base_uri": "https://localhost:8080/",
          "height": 34
        },
        "outputId": "3b21da1a-2e29-4a23-aa3f-f82cc5d9e3c0"
      },
      "source": [
        "from sklearn.metrics import accuracy_score\n",
        "from sklearn.svm import SVC\n",
        "SVClassifiers = SVC()\n",
        "SVClassifiers.fit(X_train, Y_train, )\n",
        "SVC_predict = SVClassifiers.predict(X_test)\n",
        "SCV_score = accuracy_score(Y_test, SVC_predict)\n",
        "SCV_score"
      ],
      "execution_count": null,
      "outputs": [
        {
          "output_type": "execute_result",
          "data": {
            "text/plain": [
              "0.819543242231374"
            ]
          },
          "metadata": {
            "tags": []
          },
          "execution_count": 78
        }
      ]
    },
    {
      "cell_type": "markdown",
      "metadata": {
        "id": "MTEFAVDyXt_Y",
        "colab_type": "text"
      },
      "source": [
        "### Linear SVC"
      ]
    },
    {
      "cell_type": "code",
      "metadata": {
        "id": "bVbmtIRFXfQq",
        "colab_type": "code",
        "colab": {
          "base_uri": "https://localhost:8080/",
          "height": 34
        },
        "outputId": "4adc073e-b2a2-4d7b-d7dc-76c008e6c4cc"
      },
      "source": [
        "from sklearn.svm import LinearSVC\n",
        "\n",
        "LinearSVClassifier = LinearSVC()\n",
        "LinearSVClassifier.fit(X_train, Y_train)\n",
        "Linear_predict = LinearSVClassifier.predict(X_test)\n",
        "Linearscore = accuracy_score(Y_test, Linear_predict)\n",
        "Linearscore "
      ],
      "execution_count": null,
      "outputs": [
        {
          "output_type": "execute_result",
          "data": {
            "text/plain": [
              "0.7962061649819044"
            ]
          },
          "metadata": {
            "tags": []
          },
          "execution_count": 79
        }
      ]
    },
    {
      "cell_type": "markdown",
      "metadata": {
        "id": "iYLhihwXXysg",
        "colab_type": "text"
      },
      "source": [
        "### Random Forest"
      ]
    },
    {
      "cell_type": "code",
      "metadata": {
        "id": "v6MBUGVCXjOC",
        "colab_type": "code",
        "colab": {
          "base_uri": "https://localhost:8080/",
          "height": 34
        },
        "outputId": "8f882551-2fb3-4b2a-f4f2-fe1f49a3c707"
      },
      "source": [
        "from sklearn.ensemble import RandomForestClassifier\n",
        "RFClassifier = RandomForestClassifier()\n",
        "RFClassifier.fit(X_train, Y_train)\n",
        "RFClassifier_predict = RFClassifier.predict(X_test)\n",
        "RFClassifier_score = accuracy_score(Y_test, RFClassifier_predict)\n",
        "RFClassifier_score\n",
        "print(RFClassifier.score(X_test, Y_test))"
      ],
      "execution_count": null,
      "outputs": [
        {
          "output_type": "stream",
          "text": [
            "0.7771121926868838\n"
          ],
          "name": "stdout"
        }
      ]
    },
    {
      "cell_type": "markdown",
      "metadata": {
        "id": "xmOHCl9UY2vG",
        "colab_type": "text"
      },
      "source": [
        "## TEST ON DATA "
      ]
    },
    {
      "cell_type": "code",
      "metadata": {
        "id": "hvXMaub-Yod3",
        "colab_type": "code",
        "colab": {
          "base_uri": "https://localhost:8080/",
          "height": 231
        },
        "outputId": "b40fd924-cab1-4b3a-8619-fe964d2c96fc"
      },
      "source": [
        "!wget https://raw.githubusercontent.com/sonlhcsuit/CS114.K21.KHTN/master/CRAWLED_DATA.json"
      ],
      "execution_count": null,
      "outputs": [
        {
          "output_type": "stream",
          "text": [
            "--2020-06-25 16:52:59--  https://raw.githubusercontent.com/sonlhcsuit/CS114.K21.KHTN/master/CRAWLED_DATA.json\n",
            "Resolving raw.githubusercontent.com (raw.githubusercontent.com)... 151.101.0.133, 151.101.64.133, 151.101.128.133, ...\n",
            "Connecting to raw.githubusercontent.com (raw.githubusercontent.com)|151.101.0.133|:443... connected.\n",
            "HTTP request sent, awaiting response... 200 OK\n",
            "Length: 229984 (225K) [text/plain]\n",
            "Saving to: ‘CRAWLED_DATA.json’\n",
            "\n",
            "\rCRAWLED_DATA.json     0%[                    ]       0  --.-KB/s               \rCRAWLED_DATA.json   100%[===================>] 224.59K  --.-KB/s    in 0.04s   \n",
            "\n",
            "2020-06-25 16:52:59 (5.28 MB/s) - ‘CRAWLED_DATA.json’ saved [229984/229984]\n",
            "\n"
          ],
          "name": "stdout"
        }
      ]
    },
    {
      "cell_type": "code",
      "metadata": {
        "id": "re_EJgBSZaGI",
        "colab_type": "code",
        "colab": {
          "base_uri": "https://localhost:8080/",
          "height": 360
        },
        "outputId": "8e157f5f-0d7c-4877-c6f3-8c6d8d79ceb5"
      },
      "source": [
        "CRAWLED = pd.read_json('/content/CRAWLED_DATA.json',lines=True)\n",
        "CRAWLED.head(10)"
      ],
      "execution_count": null,
      "outputs": [
        {
          "output_type": "execute_result",
          "data": {
            "text/html": [
              "<div>\n",
              "<style scoped>\n",
              "    .dataframe tbody tr th:only-of-type {\n",
              "        vertical-align: middle;\n",
              "    }\n",
              "\n",
              "    .dataframe tbody tr th {\n",
              "        vertical-align: top;\n",
              "    }\n",
              "\n",
              "    .dataframe thead th {\n",
              "        text-align: right;\n",
              "    }\n",
              "</style>\n",
              "<table border=\"1\" class=\"dataframe\">\n",
              "  <thead>\n",
              "    <tr style=\"text-align: right;\">\n",
              "      <th></th>\n",
              "      <th>headline</th>\n",
              "      <th>is_sarcastic</th>\n",
              "    </tr>\n",
              "  </thead>\n",
              "  <tbody>\n",
              "    <tr>\n",
              "      <th>0</th>\n",
              "      <td>ExxonMobil Simplifies Oil Extraction By Cuttin...</td>\n",
              "      <td>1</td>\n",
              "    </tr>\n",
              "    <tr>\n",
              "      <th>1</th>\n",
              "      <td>Quaker Oats Replaces Historically Racist Aunt ...</td>\n",
              "      <td>1</td>\n",
              "    </tr>\n",
              "    <tr>\n",
              "      <th>2</th>\n",
              "      <td>Showrunner Worried This A Bad Time For New Ser...</td>\n",
              "      <td>1</td>\n",
              "    </tr>\n",
              "    <tr>\n",
              "      <th>3</th>\n",
              "      <td>Anna Kendrick’s ‘Love Life’ Pulled From HBO Ma...</td>\n",
              "      <td>1</td>\n",
              "    </tr>\n",
              "    <tr>\n",
              "      <th>4</th>\n",
              "      <td>South Secedes From NASCAR Following Confederat...</td>\n",
              "      <td>1</td>\n",
              "    </tr>\n",
              "    <tr>\n",
              "      <th>5</th>\n",
              "      <td>No Way In Hell Man Going To Start Examining Re...</td>\n",
              "      <td>1</td>\n",
              "    </tr>\n",
              "    <tr>\n",
              "      <th>6</th>\n",
              "      <td>White Ally Willing To Do Whatever It Takes To ...</td>\n",
              "      <td>1</td>\n",
              "    </tr>\n",
              "    <tr>\n",
              "      <th>7</th>\n",
              "      <td>Woman On Sidewalk Can’t Even Summon Kernel Of ...</td>\n",
              "      <td>1</td>\n",
              "    </tr>\n",
              "    <tr>\n",
              "      <th>8</th>\n",
              "      <td>37-Year-Old Worried He Might Have Missed Boat ...</td>\n",
              "      <td>1</td>\n",
              "    </tr>\n",
              "    <tr>\n",
              "      <th>9</th>\n",
              "      <td>Biden Flattered His 1994 Crime Bill Suddenly S...</td>\n",
              "      <td>1</td>\n",
              "    </tr>\n",
              "  </tbody>\n",
              "</table>\n",
              "</div>"
            ],
            "text/plain": [
              "                                            headline  is_sarcastic\n",
              "0  ExxonMobil Simplifies Oil Extraction By Cuttin...             1\n",
              "1  Quaker Oats Replaces Historically Racist Aunt ...             1\n",
              "2  Showrunner Worried This A Bad Time For New Ser...             1\n",
              "3  Anna Kendrick’s ‘Love Life’ Pulled From HBO Ma...             1\n",
              "4  South Secedes From NASCAR Following Confederat...             1\n",
              "5  No Way In Hell Man Going To Start Examining Re...             1\n",
              "6  White Ally Willing To Do Whatever It Takes To ...             1\n",
              "7  Woman On Sidewalk Can’t Even Summon Kernel Of ...             1\n",
              "8  37-Year-Old Worried He Might Have Missed Boat ...             1\n",
              "9  Biden Flattered His 1994 Crime Bill Suddenly S...             1"
            ]
          },
          "metadata": {
            "tags": []
          },
          "execution_count": 89
        }
      ]
    },
    {
      "cell_type": "code",
      "metadata": {
        "id": "HX_YcO8haCFk",
        "colab_type": "code",
        "colab": {
          "base_uri": "https://localhost:8080/",
          "height": 420
        },
        "outputId": "5d694e18-a06e-49dd-e3c6-1ea1a48d7d96"
      },
      "source": [
        "CRAWLED.headline = CRAWLED.headline.apply(pre_process_data)\n",
        "CRAWLED"
      ],
      "execution_count": null,
      "outputs": [
        {
          "output_type": "execute_result",
          "data": {
            "text/html": [
              "<div>\n",
              "<style scoped>\n",
              "    .dataframe tbody tr th:only-of-type {\n",
              "        vertical-align: middle;\n",
              "    }\n",
              "\n",
              "    .dataframe tbody tr th {\n",
              "        vertical-align: top;\n",
              "    }\n",
              "\n",
              "    .dataframe thead th {\n",
              "        text-align: right;\n",
              "    }\n",
              "</style>\n",
              "<table border=\"1\" class=\"dataframe\">\n",
              "  <thead>\n",
              "    <tr style=\"text-align: right;\">\n",
              "      <th></th>\n",
              "      <th>headline</th>\n",
              "      <th>is_sarcastic</th>\n",
              "    </tr>\n",
              "  </thead>\n",
              "  <tbody>\n",
              "    <tr>\n",
              "      <th>0</th>\n",
              "      <td>exxonmobil simplifies oil extraction by cuttin...</td>\n",
              "      <td>1</td>\n",
              "    </tr>\n",
              "    <tr>\n",
              "      <th>1</th>\n",
              "      <td>quaker oats replaces historically racist aunt ...</td>\n",
              "      <td>1</td>\n",
              "    </tr>\n",
              "    <tr>\n",
              "      <th>2</th>\n",
              "      <td>showrunner worried a bad time for new series a...</td>\n",
              "      <td>1</td>\n",
              "    </tr>\n",
              "    <tr>\n",
              "      <th>3</th>\n",
              "      <td>anna kendricks love life pulled from hbo max u...</td>\n",
              "      <td>1</td>\n",
              "    </tr>\n",
              "    <tr>\n",
              "      <th>4</th>\n",
              "      <td>south secedes from nascar following confederat...</td>\n",
              "      <td>1</td>\n",
              "    </tr>\n",
              "    <tr>\n",
              "      <th>...</th>\n",
              "      <td>...</td>\n",
              "      <td>...</td>\n",
              "    </tr>\n",
              "    <tr>\n",
              "      <th>1995</th>\n",
              "      <td>susan rice explains exactly why trumps white h...</td>\n",
              "      <td>0</td>\n",
              "    </tr>\n",
              "    <tr>\n",
              "      <th>1996</th>\n",
              "      <td>scathing supercut shows how quickly trump flip...</td>\n",
              "      <td>0</td>\n",
              "    </tr>\n",
              "    <tr>\n",
              "      <th>1997</th>\n",
              "      <td>trumps racist toddler video removed by faceboo...</td>\n",
              "      <td>0</td>\n",
              "    </tr>\n",
              "    <tr>\n",
              "      <th>1998</th>\n",
              "      <td>50 years after mlk pastors lead new poor peopl...</td>\n",
              "      <td>0</td>\n",
              "    </tr>\n",
              "    <tr>\n",
              "      <th>1999</th>\n",
              "      <td>william barr says us attorney in manhattan is ...</td>\n",
              "      <td>0</td>\n",
              "    </tr>\n",
              "  </tbody>\n",
              "</table>\n",
              "<p>2000 rows × 2 columns</p>\n",
              "</div>"
            ],
            "text/plain": [
              "                                               headline  is_sarcastic\n",
              "0     exxonmobil simplifies oil extraction by cuttin...             1\n",
              "1     quaker oats replaces historically racist aunt ...             1\n",
              "2     showrunner worried a bad time for new series a...             1\n",
              "3     anna kendricks love life pulled from hbo max u...             1\n",
              "4     south secedes from nascar following confederat...             1\n",
              "...                                                 ...           ...\n",
              "1995  susan rice explains exactly why trumps white h...             0\n",
              "1996  scathing supercut shows how quickly trump flip...             0\n",
              "1997  trumps racist toddler video removed by faceboo...             0\n",
              "1998  50 years after mlk pastors lead new poor peopl...             0\n",
              "1999  william barr says us attorney in manhattan is ...             0\n",
              "\n",
              "[2000 rows x 2 columns]"
            ]
          },
          "metadata": {
            "tags": []
          },
          "execution_count": 91
        }
      ]
    },
    {
      "cell_type": "code",
      "metadata": {
        "id": "KKrnaHr_ZolX",
        "colab_type": "code",
        "colab": {}
      },
      "source": [
        "X_craw = CRAWLED.headline\n",
        "Y_craw = CRAWLED.is_sarcastic\n",
        "\n",
        "X_craw_test = testVector.fit_transform(X_craw)"
      ],
      "execution_count": null,
      "outputs": []
    },
    {
      "cell_type": "code",
      "metadata": {
        "id": "dmOf_OaGbOVH",
        "colab_type": "code",
        "colab": {
          "base_uri": "https://localhost:8080/",
          "height": 547
        },
        "outputId": "ab32fe84-4aaa-4e98-b47e-ce9f042bd8bb"
      },
      "source": [
        "from sklearn.metrics import classification_report\n",
        "for cls in [SVClassifiers,LinearSVClassifier,RFClassifier]:\n",
        "    ypred = cls.predict(X_craw_test)\n",
        "    yscore = cls.score(X_craw_test, Y_craw)\n",
        "    print(classification_report(Y_craw, ypred))\n",
        "    print(cls.__class__.__name__, yscore)"
      ],
      "execution_count": null,
      "outputs": [
        {
          "output_type": "stream",
          "text": [
            "              precision    recall  f1-score   support\n",
            "\n",
            "           0       0.76      0.86      0.81       985\n",
            "           1       0.85      0.73      0.78      1015\n",
            "\n",
            "    accuracy                           0.80      2000\n",
            "   macro avg       0.80      0.80      0.80      2000\n",
            "weighted avg       0.80      0.80      0.80      2000\n",
            "\n",
            "SVC 0.796\n",
            "              precision    recall  f1-score   support\n",
            "\n",
            "           0       0.74      0.78      0.76       985\n",
            "           1       0.77      0.73      0.75      1015\n",
            "\n",
            "    accuracy                           0.76      2000\n",
            "   macro avg       0.76      0.76      0.75      2000\n",
            "weighted avg       0.76      0.76      0.75      2000\n",
            "\n",
            "LinearSVC 0.755\n",
            "              precision    recall  f1-score   support\n",
            "\n",
            "           0       0.70      0.84      0.76       985\n",
            "           1       0.81      0.65      0.72      1015\n",
            "\n",
            "    accuracy                           0.74      2000\n",
            "   macro avg       0.75      0.75      0.74      2000\n",
            "weighted avg       0.75      0.74      0.74      2000\n",
            "\n",
            "RandomForestClassifier 0.744\n"
          ],
          "name": "stdout"
        }
      ]
    },
    {
      "cell_type": "markdown",
      "metadata": {
        "id": "mf6Nz17vZn7u",
        "colab_type": "text"
      },
      "source": [
        "DATA CRAWLED FROM : \n",
        "https://github.com/sonlhcsuit/CS114.K21.KHTN/edit/master/CRAWDATA.py"
      ]
    }
  ]
}